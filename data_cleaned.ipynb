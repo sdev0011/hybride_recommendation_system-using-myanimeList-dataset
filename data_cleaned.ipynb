{
 "cells": [
  {
   "cell_type": "markdown",
   "metadata": {},
   "source": [
    "# #importing csv file"
   ]
  },
  {
   "cell_type": "code",
   "execution_count": 1,
   "metadata": {},
   "outputs": [],
   "source": [
    "import pandas as pd"
   ]
  },
  {
   "cell_type": "code",
   "execution_count": 2,
   "metadata": {},
   "outputs": [],
   "source": [
    "AnimeList  = pd.read_csv(\"AnimeList.csv\")"
   ]
  },
  {
   "cell_type": "markdown",
   "metadata": {},
   "source": [
    "## displaing data file "
   ]
  },
  {
   "cell_type": "code",
   "execution_count": 3,
   "metadata": {},
   "outputs": [
    {
     "data": {
      "text/html": [
       "<div>\n",
       "<style scoped>\n",
       "    .dataframe tbody tr th:only-of-type {\n",
       "        vertical-align: middle;\n",
       "    }\n",
       "\n",
       "    .dataframe tbody tr th {\n",
       "        vertical-align: top;\n",
       "    }\n",
       "\n",
       "    .dataframe thead th {\n",
       "        text-align: right;\n",
       "    }\n",
       "</style>\n",
       "<table border=\"1\" class=\"dataframe\">\n",
       "  <thead>\n",
       "    <tr style=\"text-align: right;\">\n",
       "      <th></th>\n",
       "      <th>anime_id</th>\n",
       "      <th>episodes</th>\n",
       "      <th>score</th>\n",
       "      <th>scored_by</th>\n",
       "      <th>rank</th>\n",
       "      <th>popularity</th>\n",
       "      <th>members</th>\n",
       "      <th>favorites</th>\n",
       "    </tr>\n",
       "  </thead>\n",
       "  <tbody>\n",
       "    <tr>\n",
       "      <th>count</th>\n",
       "      <td>14478.000000</td>\n",
       "      <td>14478.000000</td>\n",
       "      <td>14478.000000</td>\n",
       "      <td>1.447800e+04</td>\n",
       "      <td>12904.000000</td>\n",
       "      <td>14478.000000</td>\n",
       "      <td>1.447800e+04</td>\n",
       "      <td>14478.000000</td>\n",
       "    </tr>\n",
       "    <tr>\n",
       "      <th>mean</th>\n",
       "      <td>17377.229866</td>\n",
       "      <td>11.308399</td>\n",
       "      <td>6.142482</td>\n",
       "      <td>1.146003e+04</td>\n",
       "      <td>6439.065406</td>\n",
       "      <td>7220.259566</td>\n",
       "      <td>2.296640e+04</td>\n",
       "      <td>311.649606</td>\n",
       "    </tr>\n",
       "    <tr>\n",
       "      <th>std</th>\n",
       "      <td>13165.315011</td>\n",
       "      <td>43.443451</td>\n",
       "      <td>1.463981</td>\n",
       "      <td>4.310519e+04</td>\n",
       "      <td>3720.227608</td>\n",
       "      <td>4170.080564</td>\n",
       "      <td>7.498136e+04</td>\n",
       "      <td>2615.554211</td>\n",
       "    </tr>\n",
       "    <tr>\n",
       "      <th>min</th>\n",
       "      <td>1.000000</td>\n",
       "      <td>0.000000</td>\n",
       "      <td>0.000000</td>\n",
       "      <td>0.000000e+00</td>\n",
       "      <td>0.000000</td>\n",
       "      <td>0.000000</td>\n",
       "      <td>0.000000e+00</td>\n",
       "      <td>0.000000</td>\n",
       "    </tr>\n",
       "    <tr>\n",
       "      <th>25%</th>\n",
       "      <td>4389.250000</td>\n",
       "      <td>1.000000</td>\n",
       "      <td>5.550000</td>\n",
       "      <td>4.600000e+01</td>\n",
       "      <td>3216.250000</td>\n",
       "      <td>3611.500000</td>\n",
       "      <td>2.450000e+02</td>\n",
       "      <td>0.000000</td>\n",
       "    </tr>\n",
       "    <tr>\n",
       "      <th>50%</th>\n",
       "      <td>15135.000000</td>\n",
       "      <td>1.000000</td>\n",
       "      <td>6.370000</td>\n",
       "      <td>5.010000e+02</td>\n",
       "      <td>6441.500000</td>\n",
       "      <td>7225.500000</td>\n",
       "      <td>1.679500e+03</td>\n",
       "      <td>2.000000</td>\n",
       "    </tr>\n",
       "    <tr>\n",
       "      <th>75%</th>\n",
       "      <td>31146.500000</td>\n",
       "      <td>12.000000</td>\n",
       "      <td>7.060000</td>\n",
       "      <td>3.941500e+03</td>\n",
       "      <td>9664.000000</td>\n",
       "      <td>10827.750000</td>\n",
       "      <td>1.037900e+04</td>\n",
       "      <td>23.000000</td>\n",
       "    </tr>\n",
       "    <tr>\n",
       "      <th>max</th>\n",
       "      <td>37916.000000</td>\n",
       "      <td>1818.000000</td>\n",
       "      <td>10.000000</td>\n",
       "      <td>1.009477e+06</td>\n",
       "      <td>12919.000000</td>\n",
       "      <td>14487.000000</td>\n",
       "      <td>1.456378e+06</td>\n",
       "      <td>106895.000000</td>\n",
       "    </tr>\n",
       "  </tbody>\n",
       "</table>\n",
       "</div>"
      ],
      "text/plain": [
       "           anime_id      episodes         score     scored_by          rank  \\\n",
       "count  14478.000000  14478.000000  14478.000000  1.447800e+04  12904.000000   \n",
       "mean   17377.229866     11.308399      6.142482  1.146003e+04   6439.065406   \n",
       "std    13165.315011     43.443451      1.463981  4.310519e+04   3720.227608   \n",
       "min        1.000000      0.000000      0.000000  0.000000e+00      0.000000   \n",
       "25%     4389.250000      1.000000      5.550000  4.600000e+01   3216.250000   \n",
       "50%    15135.000000      1.000000      6.370000  5.010000e+02   6441.500000   \n",
       "75%    31146.500000     12.000000      7.060000  3.941500e+03   9664.000000   \n",
       "max    37916.000000   1818.000000     10.000000  1.009477e+06  12919.000000   \n",
       "\n",
       "         popularity       members      favorites  \n",
       "count  14478.000000  1.447800e+04   14478.000000  \n",
       "mean    7220.259566  2.296640e+04     311.649606  \n",
       "std     4170.080564  7.498136e+04    2615.554211  \n",
       "min        0.000000  0.000000e+00       0.000000  \n",
       "25%     3611.500000  2.450000e+02       0.000000  \n",
       "50%     7225.500000  1.679500e+03       2.000000  \n",
       "75%    10827.750000  1.037900e+04      23.000000  \n",
       "max    14487.000000  1.456378e+06  106895.000000  "
      ]
     },
     "execution_count": 3,
     "metadata": {},
     "output_type": "execute_result"
    }
   ],
   "source": [
    "AnimeList.describe()"
   ]
  },
  {
   "cell_type": "markdown",
   "metadata": {},
   "source": [
    "# removing unwanted attributes"
   ]
  },
  {
   "cell_type": "code",
   "execution_count": 4,
   "metadata": {},
   "outputs": [],
   "source": [
    "AnimeList=AnimeList.drop([\"title_english\",\"title_japanese\",\"title_synonyms\",\"source\",\"premiered\",\"related\",\"producer\",\"licensor\",\"studio\",\"opening_theme\",\"ending_theme\",\"aired\",\"broadcast\"],axis=1)"
   ]
  },
  {
   "cell_type": "code",
   "execution_count": 5,
   "metadata": {},
   "outputs": [],
   "source": [
    "# renaming score by rating and rating by age restriction for simplicity\n",
    "\n",
    "AnimeList.rename(columns = {\"rating\":\"age_restriction\",\"score\":\"rating\",\"scored_by\":\"rating_by\"},inplace = True)"
   ]
  },
  {
   "cell_type": "code",
   "execution_count": 6,
   "metadata": {},
   "outputs": [
    {
     "data": {
      "text/plain": [
       "64"
      ]
     },
     "execution_count": 6,
     "metadata": {},
     "output_type": "execute_result"
    }
   ],
   "source": [
    "#calculating  empty genera set\n",
    "AnimeList['genre'].isnull().sum()"
   ]
  },
  {
   "cell_type": "code",
   "execution_count": 7,
   "metadata": {},
   "outputs": [
    {
     "data": {
      "text/plain": [
       "False"
      ]
     },
     "execution_count": 7,
     "metadata": {},
     "output_type": "execute_result"
    }
   ],
   "source": [
    "#filling it with none values\n",
    "AnimeList.loc[AnimeList['genre'].isnull(), 'genre'] = \"none\"\n",
    "AnimeList['genre'].isnull().any()"
   ]
  },
  {
   "cell_type": "code",
   "execution_count": 8,
   "metadata": {},
   "outputs": [
    {
     "data": {
      "text/plain": [
       "0"
      ]
     },
     "execution_count": 8,
     "metadata": {},
     "output_type": "execute_result"
    }
   ],
   "source": [
    "#calculate empty rating\n",
    "AnimeList['rating'].isnull().sum()"
   ]
  },
  {
   "cell_type": "markdown",
   "metadata": {},
   "source": [
    "# checking all possible age_restriction anime and remove rx rated anime"
   ]
  },
  {
   "cell_type": "code",
   "execution_count": 9,
   "metadata": {},
   "outputs": [
    {
     "data": {
      "text/plain": [
       "array(['PG-13 - Teens 13 or older', 'PG - Children', 'G - All Ages',\n",
       "       'R+ - Mild Nudity', 'R - 17+ (violence & profanity)',\n",
       "       'Rx - Hentai', 'None'], dtype=object)"
      ]
     },
     "execution_count": 9,
     "metadata": {},
     "output_type": "execute_result"
    }
   ],
   "source": [
    "AnimeList.age_restriction.unique()"
   ]
  },
  {
   "cell_type": "code",
   "execution_count": 10,
   "metadata": {},
   "outputs": [],
   "source": [
    "AnimeList.drop(AnimeList[AnimeList.age_restriction ==\"Rx - Hentai\"].index, inplace=True)"
   ]
  },
  {
   "cell_type": "code",
   "execution_count": 11,
   "metadata": {},
   "outputs": [
    {
     "data": {
      "text/plain": [
       "array(['PG-13 - Teens 13 or older', 'PG - Children', 'G - All Ages',\n",
       "       'R+ - Mild Nudity', 'R - 17+ (violence & profanity)', 'None'],\n",
       "      dtype=object)"
      ]
     },
     "execution_count": 11,
     "metadata": {},
     "output_type": "execute_result"
    }
   ],
   "source": [
    "# all anime with rx-rated are removed\n",
    "AnimeList.age_restriction.unique()"
   ]
  },
  {
   "cell_type": "code",
   "execution_count": 12,
   "metadata": {},
   "outputs": [
    {
     "data": {
      "text/html": [
       "<div>\n",
       "<style scoped>\n",
       "    .dataframe tbody tr th:only-of-type {\n",
       "        vertical-align: middle;\n",
       "    }\n",
       "\n",
       "    .dataframe tbody tr th {\n",
       "        vertical-align: top;\n",
       "    }\n",
       "\n",
       "    .dataframe thead th {\n",
       "        text-align: right;\n",
       "    }\n",
       "</style>\n",
       "<table border=\"1\" class=\"dataframe\">\n",
       "  <thead>\n",
       "    <tr style=\"text-align: right;\">\n",
       "      <th></th>\n",
       "      <th>anime_id</th>\n",
       "      <th>title</th>\n",
       "      <th>image_url</th>\n",
       "      <th>type</th>\n",
       "      <th>episodes</th>\n",
       "      <th>status</th>\n",
       "      <th>airing</th>\n",
       "      <th>aired_string</th>\n",
       "      <th>duration</th>\n",
       "      <th>age_restriction</th>\n",
       "      <th>rating</th>\n",
       "      <th>rating_by</th>\n",
       "      <th>rank</th>\n",
       "      <th>popularity</th>\n",
       "      <th>members</th>\n",
       "      <th>favorites</th>\n",
       "      <th>background</th>\n",
       "      <th>genre</th>\n",
       "    </tr>\n",
       "  </thead>\n",
       "  <tbody>\n",
       "    <tr>\n",
       "      <th>0</th>\n",
       "      <td>11013</td>\n",
       "      <td>Inu x Boku SS</td>\n",
       "      <td>https://myanimelist.cdn-dena.com/images/anime/...</td>\n",
       "      <td>TV</td>\n",
       "      <td>12</td>\n",
       "      <td>Finished Airing</td>\n",
       "      <td>False</td>\n",
       "      <td>Jan 13, 2012 to Mar 30, 2012</td>\n",
       "      <td>24 min. per ep.</td>\n",
       "      <td>PG-13 - Teens 13 or older</td>\n",
       "      <td>7.63</td>\n",
       "      <td>139250</td>\n",
       "      <td>1274.0</td>\n",
       "      <td>231</td>\n",
       "      <td>283882</td>\n",
       "      <td>2809</td>\n",
       "      <td>Inu x Boku SS was licensed by Sentai Filmworks...</td>\n",
       "      <td>Comedy, Supernatural, Romance, Shounen</td>\n",
       "    </tr>\n",
       "    <tr>\n",
       "      <th>1</th>\n",
       "      <td>2104</td>\n",
       "      <td>Seto no Hanayome</td>\n",
       "      <td>https://myanimelist.cdn-dena.com/images/anime/...</td>\n",
       "      <td>TV</td>\n",
       "      <td>26</td>\n",
       "      <td>Finished Airing</td>\n",
       "      <td>False</td>\n",
       "      <td>Apr 2, 2007 to Oct 1, 2007</td>\n",
       "      <td>24 min. per ep.</td>\n",
       "      <td>PG-13 - Teens 13 or older</td>\n",
       "      <td>7.89</td>\n",
       "      <td>91206</td>\n",
       "      <td>727.0</td>\n",
       "      <td>366</td>\n",
       "      <td>204003</td>\n",
       "      <td>2579</td>\n",
       "      <td>NaN</td>\n",
       "      <td>Comedy, Parody, Romance, School, Shounen</td>\n",
       "    </tr>\n",
       "    <tr>\n",
       "      <th>2</th>\n",
       "      <td>5262</td>\n",
       "      <td>Shugo Chara!! Doki</td>\n",
       "      <td>https://myanimelist.cdn-dena.com/images/anime/...</td>\n",
       "      <td>TV</td>\n",
       "      <td>51</td>\n",
       "      <td>Finished Airing</td>\n",
       "      <td>False</td>\n",
       "      <td>Oct 4, 2008 to Sep 25, 2009</td>\n",
       "      <td>24 min. per ep.</td>\n",
       "      <td>PG - Children</td>\n",
       "      <td>7.55</td>\n",
       "      <td>37129</td>\n",
       "      <td>1508.0</td>\n",
       "      <td>1173</td>\n",
       "      <td>70127</td>\n",
       "      <td>802</td>\n",
       "      <td>NaN</td>\n",
       "      <td>Comedy, Magic, School, Shoujo</td>\n",
       "    </tr>\n",
       "    <tr>\n",
       "      <th>3</th>\n",
       "      <td>721</td>\n",
       "      <td>Princess Tutu</td>\n",
       "      <td>https://myanimelist.cdn-dena.com/images/anime/...</td>\n",
       "      <td>TV</td>\n",
       "      <td>38</td>\n",
       "      <td>Finished Airing</td>\n",
       "      <td>False</td>\n",
       "      <td>Aug 16, 2002 to May 23, 2003</td>\n",
       "      <td>16 min. per ep.</td>\n",
       "      <td>PG-13 - Teens 13 or older</td>\n",
       "      <td>8.21</td>\n",
       "      <td>36501</td>\n",
       "      <td>307.0</td>\n",
       "      <td>916</td>\n",
       "      <td>93312</td>\n",
       "      <td>3344</td>\n",
       "      <td>Princess Tutu aired in two parts. The first pa...</td>\n",
       "      <td>Comedy, Drama, Magic, Romance, Fantasy</td>\n",
       "    </tr>\n",
       "    <tr>\n",
       "      <th>4</th>\n",
       "      <td>12365</td>\n",
       "      <td>Bakuman. 3rd Season</td>\n",
       "      <td>https://myanimelist.cdn-dena.com/images/anime/...</td>\n",
       "      <td>TV</td>\n",
       "      <td>25</td>\n",
       "      <td>Finished Airing</td>\n",
       "      <td>False</td>\n",
       "      <td>Oct 6, 2012 to Mar 30, 2013</td>\n",
       "      <td>24 min. per ep.</td>\n",
       "      <td>PG-13 - Teens 13 or older</td>\n",
       "      <td>8.67</td>\n",
       "      <td>107767</td>\n",
       "      <td>50.0</td>\n",
       "      <td>426</td>\n",
       "      <td>182765</td>\n",
       "      <td>2082</td>\n",
       "      <td>NaN</td>\n",
       "      <td>Comedy, Drama, Romance, Shounen</td>\n",
       "    </tr>\n",
       "  </tbody>\n",
       "</table>\n",
       "</div>"
      ],
      "text/plain": [
       "   anime_id                title  \\\n",
       "0     11013        Inu x Boku SS   \n",
       "1      2104     Seto no Hanayome   \n",
       "2      5262   Shugo Chara!! Doki   \n",
       "3       721        Princess Tutu   \n",
       "4     12365  Bakuman. 3rd Season   \n",
       "\n",
       "                                           image_url type  episodes  \\\n",
       "0  https://myanimelist.cdn-dena.com/images/anime/...   TV        12   \n",
       "1  https://myanimelist.cdn-dena.com/images/anime/...   TV        26   \n",
       "2  https://myanimelist.cdn-dena.com/images/anime/...   TV        51   \n",
       "3  https://myanimelist.cdn-dena.com/images/anime/...   TV        38   \n",
       "4  https://myanimelist.cdn-dena.com/images/anime/...   TV        25   \n",
       "\n",
       "            status  airing                  aired_string         duration  \\\n",
       "0  Finished Airing   False  Jan 13, 2012 to Mar 30, 2012  24 min. per ep.   \n",
       "1  Finished Airing   False    Apr 2, 2007 to Oct 1, 2007  24 min. per ep.   \n",
       "2  Finished Airing   False   Oct 4, 2008 to Sep 25, 2009  24 min. per ep.   \n",
       "3  Finished Airing   False  Aug 16, 2002 to May 23, 2003  16 min. per ep.   \n",
       "4  Finished Airing   False   Oct 6, 2012 to Mar 30, 2013  24 min. per ep.   \n",
       "\n",
       "             age_restriction  rating  rating_by    rank  popularity  members  \\\n",
       "0  PG-13 - Teens 13 or older    7.63     139250  1274.0         231   283882   \n",
       "1  PG-13 - Teens 13 or older    7.89      91206   727.0         366   204003   \n",
       "2              PG - Children    7.55      37129  1508.0        1173    70127   \n",
       "3  PG-13 - Teens 13 or older    8.21      36501   307.0         916    93312   \n",
       "4  PG-13 - Teens 13 or older    8.67     107767    50.0         426   182765   \n",
       "\n",
       "   favorites                                         background  \\\n",
       "0       2809  Inu x Boku SS was licensed by Sentai Filmworks...   \n",
       "1       2579                                                NaN   \n",
       "2        802                                                NaN   \n",
       "3       3344  Princess Tutu aired in two parts. The first pa...   \n",
       "4       2082                                                NaN   \n",
       "\n",
       "                                      genre  \n",
       "0    Comedy, Supernatural, Romance, Shounen  \n",
       "1  Comedy, Parody, Romance, School, Shounen  \n",
       "2             Comedy, Magic, School, Shoujo  \n",
       "3    Comedy, Drama, Magic, Romance, Fantasy  \n",
       "4           Comedy, Drama, Romance, Shounen  "
      ]
     },
     "execution_count": 12,
     "metadata": {},
     "output_type": "execute_result"
    }
   ],
   "source": [
    "AnimeList.head()"
   ]
  },
  {
   "cell_type": "code",
   "execution_count": 13,
   "metadata": {},
   "outputs": [
    {
     "name": "stdout",
     "output_type": "stream",
     "text": [
      "<class 'pandas.core.frame.DataFrame'>\n",
      "Int64Index: 13259 entries, 0 to 14477\n",
      "Data columns (total 18 columns):\n",
      "anime_id           13259 non-null int64\n",
      "title              13259 non-null object\n",
      "image_url          13164 non-null object\n",
      "type               13259 non-null object\n",
      "episodes           13259 non-null int64\n",
      "status             13259 non-null object\n",
      "airing             13259 non-null bool\n",
      "aired_string       13259 non-null object\n",
      "duration           13259 non-null object\n",
      "age_restriction    13259 non-null object\n",
      "rating             13259 non-null float64\n",
      "rating_by          13259 non-null int64\n",
      "rank               12902 non-null float64\n",
      "popularity         13259 non-null int64\n",
      "members            13259 non-null int64\n",
      "favorites          13259 non-null int64\n",
      "background         1043 non-null object\n",
      "genre              13259 non-null object\n",
      "dtypes: bool(1), float64(2), int64(6), object(9)\n",
      "memory usage: 1.8+ MB\n"
     ]
    }
   ],
   "source": [
    "AnimeList.info()"
   ]
  },
  {
   "cell_type": "markdown",
   "metadata": {},
   "source": [
    "# Data visulization\n"
   ]
  },
  {
   "cell_type": "code",
   "execution_count": 14,
   "metadata": {},
   "outputs": [],
   "source": [
    "# %matplotlib inline used when we want our data  visulization here it self\n",
    "\n",
    "import matplotlib.pyplot as plt\n",
    "%matplotlib inline"
   ]
  },
  {
   "cell_type": "code",
   "execution_count": 15,
   "metadata": {},
   "outputs": [
    {
     "data": {
      "text/plain": [
       "<matplotlib.axes._subplots.AxesSubplot at 0x8ad1ba8>"
      ]
     },
     "execution_count": 15,
     "metadata": {},
     "output_type": "execute_result"
    },
    {
     "data": {
      "image/png": "[encoded data removed]",
      "text/plain": [
       "<Figure size 432x288 with 1 Axes>"
      ]
     },
     "metadata": {
      "needs_background": "light"
     },
     "output_type": "display_data"
    }
   ],
   "source": [
    "AnimeList['type'].value_counts().plot.bar()"
   ]
  },
  {
   "cell_type": "raw",
   "metadata": {},
   "source": [
    "as we can see thier is above 4000 entry of daily tv serial anime,2700 or near by movies so we dont need to consider other types like ona and music but if you want to include for versetile recoomendation you can considerthe as well."
   ]
  },
  {
   "cell_type": "code",
   "execution_count": 16,
   "metadata": {},
   "outputs": [
    {
     "data": {
      "image/png": "[encoded data removed]",
      "text/plain": [
       "<Figure size 432x288 with 1 Axes>"
      ]
     },
     "metadata": {},
     "output_type": "display_data"
    }
   ],
   "source": [
    "import seaborn as sns\n",
    "sns.set(style =\"whitegrid\") \n",
    "ax = sns.barplot(x = 'type', y = 'rating', data = AnimeList) "
   ]
  },
  {
   "cell_type": "code",
   "execution_count": 17,
   "metadata": {},
   "outputs": [
    {
     "data": {
      "text/plain": [
       "(5, 18)"
      ]
     },
     "execution_count": 17,
     "metadata": {},
     "output_type": "execute_result"
    }
   ],
   "source": [
    "missing=AnimeList.loc[(AnimeList['type']==\"Unknown\")].head()\n",
    "missing.shape"
   ]
  },
  {
   "cell_type": "code",
   "execution_count": 18,
   "metadata": {},
   "outputs": [
    {
     "data": {
      "text/html": [
       "<div>\n",
       "<style scoped>\n",
       "    .dataframe tbody tr th:only-of-type {\n",
       "        vertical-align: middle;\n",
       "    }\n",
       "\n",
       "    .dataframe tbody tr th {\n",
       "        vertical-align: top;\n",
       "    }\n",
       "\n",
       "    .dataframe thead th {\n",
       "        text-align: right;\n",
       "    }\n",
       "</style>\n",
       "<table border=\"1\" class=\"dataframe\">\n",
       "  <thead>\n",
       "    <tr style=\"text-align: right;\">\n",
       "      <th></th>\n",
       "      <th>anime_id</th>\n",
       "      <th>title</th>\n",
       "      <th>image_url</th>\n",
       "      <th>type</th>\n",
       "      <th>episodes</th>\n",
       "      <th>status</th>\n",
       "      <th>airing</th>\n",
       "      <th>aired_string</th>\n",
       "      <th>duration</th>\n",
       "      <th>age_restriction</th>\n",
       "      <th>rating</th>\n",
       "      <th>rating_by</th>\n",
       "      <th>rank</th>\n",
       "      <th>popularity</th>\n",
       "      <th>members</th>\n",
       "      <th>favorites</th>\n",
       "      <th>background</th>\n",
       "      <th>genre</th>\n",
       "    </tr>\n",
       "  </thead>\n",
       "  <tbody>\n",
       "    <tr>\n",
       "      <th>187</th>\n",
       "      <td>35759</td>\n",
       "      <td>Sidonia no Kishi 3</td>\n",
       "      <td>https://myanimelist.cdn-dena.com/images/anime/...</td>\n",
       "      <td>Unknown</td>\n",
       "      <td>0</td>\n",
       "      <td>Not yet aired</td>\n",
       "      <td>False</td>\n",
       "      <td>Not available</td>\n",
       "      <td>24 min.</td>\n",
       "      <td>R - 17+ (violence &amp; profanity)</td>\n",
       "      <td>0.0</td>\n",
       "      <td>0</td>\n",
       "      <td>NaN</td>\n",
       "      <td>4601</td>\n",
       "      <td>5801</td>\n",
       "      <td>24</td>\n",
       "      <td>NaN</td>\n",
       "      <td>Action, Sci-Fi, Space, Mecha, Seinen</td>\n",
       "    </tr>\n",
       "    <tr>\n",
       "      <th>511</th>\n",
       "      <td>37651</td>\n",
       "      <td>Fate/Extra: Last Encore - Irusterias Tendouron</td>\n",
       "      <td>https://myanimelist.cdn-dena.com/images/anime/...</td>\n",
       "      <td>Unknown</td>\n",
       "      <td>0</td>\n",
       "      <td>Not yet aired</td>\n",
       "      <td>False</td>\n",
       "      <td>Jul, 2018 to ?</td>\n",
       "      <td>Unknown</td>\n",
       "      <td>R - 17+ (violence &amp; profanity)</td>\n",
       "      <td>0.0</td>\n",
       "      <td>1</td>\n",
       "      <td>NaN</td>\n",
       "      <td>4461</td>\n",
       "      <td>6265</td>\n",
       "      <td>4</td>\n",
       "      <td>NaN</td>\n",
       "      <td>Action, Magic, Fantasy</td>\n",
       "    </tr>\n",
       "    <tr>\n",
       "      <th>1396</th>\n",
       "      <td>35252</td>\n",
       "      <td>Hatena☆Illusion</td>\n",
       "      <td>https://myanimelist.cdn-dena.com/images/anime/...</td>\n",
       "      <td>Unknown</td>\n",
       "      <td>0</td>\n",
       "      <td>Not yet aired</td>\n",
       "      <td>False</td>\n",
       "      <td>Not available</td>\n",
       "      <td>Unknown</td>\n",
       "      <td>None</td>\n",
       "      <td>0.0</td>\n",
       "      <td>0</td>\n",
       "      <td>NaN</td>\n",
       "      <td>7242</td>\n",
       "      <td>1674</td>\n",
       "      <td>1</td>\n",
       "      <td>NaN</td>\n",
       "      <td>Comedy, Supernatural, Romance, Ecchi</td>\n",
       "    </tr>\n",
       "    <tr>\n",
       "      <th>1989</th>\n",
       "      <td>36407</td>\n",
       "      <td>Kenja no Mago</td>\n",
       "      <td>https://myanimelist.cdn-dena.com/images/anime/...</td>\n",
       "      <td>Unknown</td>\n",
       "      <td>0</td>\n",
       "      <td>Not yet aired</td>\n",
       "      <td>False</td>\n",
       "      <td>Not available</td>\n",
       "      <td>Unknown</td>\n",
       "      <td>None</td>\n",
       "      <td>0.0</td>\n",
       "      <td>1</td>\n",
       "      <td>NaN</td>\n",
       "      <td>6019</td>\n",
       "      <td>2925</td>\n",
       "      <td>8</td>\n",
       "      <td>NaN</td>\n",
       "      <td>Action, Comedy, Magic, Fantasy</td>\n",
       "    </tr>\n",
       "    <tr>\n",
       "      <th>2326</th>\n",
       "      <td>34649</td>\n",
       "      <td>Soukyuu no Fafner: Dead Aggressor - The Beyond</td>\n",
       "      <td>https://myanimelist.cdn-dena.com/images/anime/...</td>\n",
       "      <td>Unknown</td>\n",
       "      <td>0</td>\n",
       "      <td>Not yet aired</td>\n",
       "      <td>False</td>\n",
       "      <td>Not available</td>\n",
       "      <td>Unknown</td>\n",
       "      <td>PG-13 - Teens 13 or older</td>\n",
       "      <td>0.0</td>\n",
       "      <td>0</td>\n",
       "      <td>NaN</td>\n",
       "      <td>6674</td>\n",
       "      <td>2177</td>\n",
       "      <td>2</td>\n",
       "      <td>NaN</td>\n",
       "      <td>Action, Military, Sci-Fi, Drama, Mecha</td>\n",
       "    </tr>\n",
       "  </tbody>\n",
       "</table>\n",
       "</div>"
      ],
      "text/plain": [
       "      anime_id                                           title  \\\n",
       "187      35759                              Sidonia no Kishi 3   \n",
       "511      37651  Fate/Extra: Last Encore - Irusterias Tendouron   \n",
       "1396     35252                                 Hatena☆Illusion   \n",
       "1989     36407                                   Kenja no Mago   \n",
       "2326     34649  Soukyuu no Fafner: Dead Aggressor - The Beyond   \n",
       "\n",
       "                                              image_url     type  episodes  \\\n",
       "187   https://myanimelist.cdn-dena.com/images/anime/...  Unknown         0   \n",
       "511   https://myanimelist.cdn-dena.com/images/anime/...  Unknown         0   \n",
       "1396  https://myanimelist.cdn-dena.com/images/anime/...  Unknown         0   \n",
       "1989  https://myanimelist.cdn-dena.com/images/anime/...  Unknown         0   \n",
       "2326  https://myanimelist.cdn-dena.com/images/anime/...  Unknown         0   \n",
       "\n",
       "             status  airing    aired_string duration  \\\n",
       "187   Not yet aired   False   Not available  24 min.   \n",
       "511   Not yet aired   False  Jul, 2018 to ?  Unknown   \n",
       "1396  Not yet aired   False   Not available  Unknown   \n",
       "1989  Not yet aired   False   Not available  Unknown   \n",
       "2326  Not yet aired   False   Not available  Unknown   \n",
       "\n",
       "                     age_restriction  rating  rating_by  rank  popularity  \\\n",
       "187   R - 17+ (violence & profanity)     0.0          0   NaN        4601   \n",
       "511   R - 17+ (violence & profanity)     0.0          1   NaN        4461   \n",
       "1396                            None     0.0          0   NaN        7242   \n",
       "1989                            None     0.0          1   NaN        6019   \n",
       "2326       PG-13 - Teens 13 or older     0.0          0   NaN        6674   \n",
       "\n",
       "      members  favorites background                                   genre  \n",
       "187      5801         24        NaN    Action, Sci-Fi, Space, Mecha, Seinen  \n",
       "511      6265          4        NaN                  Action, Magic, Fantasy  \n",
       "1396     1674          1        NaN    Comedy, Supernatural, Romance, Ecchi  \n",
       "1989     2925          8        NaN          Action, Comedy, Magic, Fantasy  \n",
       "2326     2177          2        NaN  Action, Military, Sci-Fi, Drama, Mecha  "
      ]
     },
     "execution_count": 18,
     "metadata": {},
     "output_type": "execute_result"
    }
   ],
   "source": [
    "missing.head(5)"
   ]
  },
  {
   "cell_type": "raw",
   "metadata": {},
   "source": [
    "we can ignore the unkown types as the are not too much in size as wll as in ratings"
   ]
  },
  {
   "cell_type": "code",
   "execution_count": 19,
   "metadata": {},
   "outputs": [
    {
     "data": {
      "text/plain": [
       "(0, 18)"
      ]
     },
     "execution_count": 19,
     "metadata": {},
     "output_type": "execute_result"
    }
   ],
   "source": [
    "AnimeList.drop(AnimeList[AnimeList.type ==\"Unknown\"].index, inplace=True)\n",
    "missing=AnimeList.loc[(AnimeList['type']==\"Unknown\")].head()\n",
    "missing.shape"
   ]
  },
  {
   "cell_type": "markdown",
   "metadata": {},
   "source": [
    "# # data is splitting into traing and testing"
   ]
  },
  {
   "cell_type": "code",
   "execution_count": 20,
   "metadata": {},
   "outputs": [],
   "source": [
    "# using skitlearn \n",
    "from sklearn.model_selection import train_test_split\n",
    "\n",
    "#ratio is 80 and 20 and radom seed is 42\n",
    "\n",
    "anime_train_set, anime_test_set = train_test_split(AnimeList, test_size= 0.2, random_state= 42)"
   ]
  },
  {
   "cell_type": "code",
   "execution_count": 21,
   "metadata": {},
   "outputs": [
    {
     "name": "stdout",
     "output_type": "stream",
     "text": [
      "rows in train set:10583\n",
      "row in test set:2646\n",
      "\n"
     ]
    }
   ],
   "source": [
    "print(f\"rows in train set:{len(anime_train_set)}\\nrow in test set:{len(anime_test_set)}\\n\")"
   ]
  },
  {
   "cell_type": "markdown",
   "metadata": {},
   "source": [
    "# Bulding genera based recommendation "
   ]
  },
  {
   "cell_type": "raw",
   "metadata": {},
   "source": [
    "as our data set we have anime rating with no of pepole given rating,we have to quantify this rating as per no of pepoles who gave the rating...."
   ]
  },
  {
   "cell_type": "code",
   "execution_count": 22,
   "metadata": {},
   "outputs": [
    {
     "name": "stdout",
     "output_type": "stream",
     "text": [
      "12323.0 6.146585089294171\n"
     ]
    }
   ],
   "source": [
    "m = anime_train_set.members.quantile(0.75)\n",
    "C = anime_train_set.rating.mean()\n",
    "print(m, C)"
   ]
  },
  {
   "cell_type": "code",
   "execution_count": 23,
   "metadata": {},
   "outputs": [],
   "source": [
    "def weighted_rating(df, m, C):\n",
    "    term = df['members'] / (m + df['members'])\n",
    "    return df['rating'] * term + (1-term) * C"
   ]
  },
  {
   "cell_type": "code",
   "execution_count": 24,
   "metadata": {},
   "outputs": [
    {
     "ename": "NameError",
     "evalue": "name 'df' is not defined",
     "output_type": "error",
     "traceback": [
      "\u001b[1;31m---------------------------------------------------------------------------\u001b[0m",
      "\u001b[1;31mNameError\u001b[0m                                 Traceback (most recent call last)",
      "\u001b[1;32m<ipython-input-24-13cf940fb7c2>\u001b[0m in \u001b[0;36m<module>\u001b[1;34m\u001b[0m\n\u001b[1;32m----> 1\u001b[1;33m \u001b[0manime_train_set_set\u001b[0m\u001b[1;33m[\u001b[0m\u001b[1;34m'community_rating'\u001b[0m\u001b[1;33m]\u001b[0m \u001b[1;33m=\u001b[0m \u001b[0mdf\u001b[0m\u001b[1;33m.\u001b[0m\u001b[0mapply\u001b[0m\u001b[1;33m(\u001b[0m\u001b[0mweighted_rating\u001b[0m\u001b[1;33m,\u001b[0m \u001b[0maxis\u001b[0m\u001b[1;33m=\u001b[0m\u001b[1;36m1\u001b[0m\u001b[1;33m,\u001b[0m \u001b[0margs\u001b[0m\u001b[1;33m=\u001b[0m\u001b[1;33m(\u001b[0m\u001b[0mm\u001b[0m\u001b[1;33m,\u001b[0m\u001b[0mC\u001b[0m\u001b[1;33m)\u001b[0m\u001b[1;33m)\u001b[0m\u001b[1;33m\u001b[0m\u001b[1;33m\u001b[0m\u001b[0m\n\u001b[0m\u001b[0;32m      2\u001b[0m \u001b[0manime_train_set\u001b[0m\u001b[1;33m.\u001b[0m\u001b[0mhead\u001b[0m\u001b[1;33m(\u001b[0m\u001b[1;33m)\u001b[0m\u001b[1;33m\u001b[0m\u001b[1;33m\u001b[0m\u001b[0m\n",
      "\u001b[1;31mNameError\u001b[0m: name 'df' is not defined"
     ]
    }
   ],
   "source": [
    "anime_train_set_set['community_rating'] = df.apply(weighted_rating, axis=1, args=(m,C))\n",
    "anime_train_set.head()"
   ]
  },
  {
   "cell_type": "code",
   "execution_count": null,
   "metadata": {},
   "outputs": [],
   "source": []
  }
 ],
 "metadata": {
  "kernelspec": {
   "display_name": "Python 3",
   "language": "python",
   "name": "python3"
  },
  "language_info": {
   "codemirror_mode": {
    "name": "ipython",
    "version": 3
   },
   "file_extension": ".py",
   "mimetype": "text/x-python",
   "name": "python",
   "nbconvert_exporter": "python",
   "pygments_lexer": "ipython3",
   "version": "3.7.3"
  }
 },
 "nbformat": 4,
 "nbformat_minor": 2
}
